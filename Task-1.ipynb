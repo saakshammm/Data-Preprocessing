{
 "cells": [
  {
   "metadata": {},
   "cell_type": "markdown",
   "source": "# Data Cleaning and pre-processing",
   "id": "b5d4fc85dd21e35c"
  },
  {
   "metadata": {
    "ExecuteTime": {
     "end_time": "2025-06-23T07:44:49.809283Z",
     "start_time": "2025-06-23T07:44:49.803980Z"
    }
   },
   "cell_type": "code",
   "source": [
    "import pandas as pd\n",
    "import numpy as np\n",
    "import matplotlib.pyplot as plt\n",
    "import seaborn as sns"
   ],
   "id": "9502de25353db961",
   "outputs": [],
   "execution_count": 4
  },
  {
   "metadata": {
    "ExecuteTime": {
     "end_time": "2025-06-23T07:46:42.915151Z",
     "start_time": "2025-06-23T07:46:42.621539Z"
    }
   },
   "cell_type": "code",
   "source": [
    "df = pd.read_csv(\"marvel_characters_dataset.csv\")\n",
    "print(df)"
   ],
   "id": "5c7ea126cf482b0",
   "outputs": [
    {
     "name": "stdout",
     "output_type": "stream",
     "text": [
      "       Unnamed: 0                        PageID             Name  \\\n",
      "0               0          A_Friend_(Earth-616)         A Friend   \n",
      "1               1       A_Friend_(Earth-TRN743)         A Friend   \n",
      "2               2        A_La_Mode_(Earth-9047)        A La Mode   \n",
      "3               3              A'di_(Earth-616)             A'di   \n",
      "4               4           A'ishah_(Earth-616)          A'ishah   \n",
      "...           ...                           ...              ...   \n",
      "92610       92610  Rebecca_Hoover_(Earth-17372)   Rebecca Hoover   \n",
      "92611       92611   Rebecca_Houston_(Earth-616)  Rebecca Houston   \n",
      "92612       92612    Rebecca_Kaplan_(Earth-616)   Rebecca Kaplan   \n",
      "92613       92613  Reed_Richards_(Earth-TRN829)    Reed Richards   \n",
      "92614       92614     Rhonda_Rubens_(Earth-616)    Rhonda Rubens   \n",
      "\n",
      "           Universe                                                URL  \\\n",
      "0         Earth-616  https://marvel.fandom.com/wiki/A_Friend_(Earth...   \n",
      "1      Earth-TRN743  https://marvel.fandom.com/wiki/A_Friend_(Earth...   \n",
      "2        Earth-9047  https://marvel.fandom.com/wiki/A_La_Mode_(Eart...   \n",
      "3         Earth-616  https://marvel.fandom.com/wiki/A%27di_(Earth-616)   \n",
      "4         Earth-616  https://marvel.fandom.com/wiki/A%27ishah_(Eart...   \n",
      "...             ...                                                ...   \n",
      "92610   Earth-17372  https://marvel.fandom.com/wiki/Rebecca_Hoover_...   \n",
      "92611     Earth-616  https://marvel.fandom.com/wiki/Rebecca_Houston...   \n",
      "92612     Earth-616  https://marvel.fandom.com/wiki/Rebecca_Kaplan_...   \n",
      "92613  Earth-TRN829  https://marvel.fandom.com/wiki/Reed_Richards_(...   \n",
      "92614     Earth-616  https://marvel.fandom.com/wiki/Rhonda_Rubens_(...   \n",
      "\n",
      "      Identity  Gender  Alive Marital Status                       Teams  \\\n",
      "0       Public    Male  Alive         Single                         NaN   \n",
      "1       Public    Male  Alive         Single                         NaN   \n",
      "2       Secret     NaN  Alive         Single                Lunch Legion   \n",
      "3       Public  Female  Alive         Single  Alpha Cadets; Alpha Flight   \n",
      "4       Secret  Female  Alive         Single           Church of Lucifer   \n",
      "...        ...     ...    ...            ...                         ...   \n",
      "92610   Secret  Female   Dead         Single               Hellfire Club   \n",
      "92611   Public  Female  Alive            NaN          United States Navy   \n",
      "92612   Public  Female  Alive        Married                         NaN   \n",
      "92613   Public    Male  Alive        Married              Fantastic Four   \n",
      "92614   Secret  Female  Alive            NaN                         NaN   \n",
      "\n",
      "       Height (m)  Weight (kg)                                        Origin  \\\n",
      "0             NaN          NaN                                         Demon   \n",
      "1             NaN          NaN                                           NaN   \n",
      "2             NaN          NaN                              Living ice cream   \n",
      "3             NaN          NaN                                         Human   \n",
      "4             NaN          NaN                                         Human   \n",
      "...           ...          ...                                           ...   \n",
      "92610         NaN          NaN                                        Mutant   \n",
      "92611         NaN          NaN                                         Human   \n",
      "92612         NaN          NaN                                         Human   \n",
      "92613         NaN          NaN  Human mutates due to exposure to Cosmic Rays   \n",
      "92614         NaN          NaN                                         Human   \n",
      "\n",
      "                              Creators  \n",
      "0            Jim Mooney; Tony Isabella  \n",
      "1             Al Ewing; Salvador Espin  \n",
      "2              Keith Wilson; Rob Tokar  \n",
      "3      Margaret Stohl; Michele Bandini  \n",
      "4                         Warren Ellis  \n",
      "...                                ...  \n",
      "92610                         Matt Nix  \n",
      "92611            Mark Waid; Ron Garney  \n",
      "92612    Allan Heinberg; Andrea DiVito  \n",
      "92613      John Harkness; Rich Buckler  \n",
      "92614        Felipe Smith; Tradd Moore  \n",
      "\n",
      "[92615 rows x 14 columns]\n"
     ]
    }
   ],
   "execution_count": 6
  },
  {
   "metadata": {
    "ExecuteTime": {
     "end_time": "2025-06-23T09:45:19.365875Z",
     "start_time": "2025-06-23T09:45:19.290338Z"
    }
   },
   "cell_type": "code",
   "source": "df.info()",
   "id": "3016b68189600852",
   "outputs": [
    {
     "name": "stdout",
     "output_type": "stream",
     "text": [
      "<class 'pandas.core.frame.DataFrame'>\n",
      "RangeIndex: 92615 entries, 0 to 92614\n",
      "Data columns (total 14 columns):\n",
      " #   Column          Non-Null Count  Dtype  \n",
      "---  ------          --------------  -----  \n",
      " 0   Unnamed: 0      92615 non-null  int64  \n",
      " 1   PageID          92615 non-null  object \n",
      " 2   Name            92615 non-null  object \n",
      " 3   Universe        92609 non-null  object \n",
      " 4   URL             92615 non-null  object \n",
      " 5   Identity        72740 non-null  object \n",
      " 6   Gender          89389 non-null  object \n",
      " 7   Alive           92614 non-null  object \n",
      " 8   Marital Status  38101 non-null  object \n",
      " 9   Teams           49808 non-null  object \n",
      " 10  Height (m)      5317 non-null   float64\n",
      " 11  Weight (kg)     4873 non-null   float64\n",
      " 12  Origin          78141 non-null  object \n",
      " 13  Creators        90565 non-null  object \n",
      "dtypes: float64(2), int64(1), object(11)\n",
      "memory usage: 9.9+ MB\n"
     ]
    }
   ],
   "execution_count": 7
  },
  {
   "metadata": {
    "ExecuteTime": {
     "end_time": "2025-06-23T09:46:03.335258Z",
     "start_time": "2025-06-23T09:46:03.299871Z"
    }
   },
   "cell_type": "code",
   "source": "print(df.isnull().sum())",
   "id": "922b1de1ca444315",
   "outputs": [
    {
     "name": "stdout",
     "output_type": "stream",
     "text": [
      "Unnamed: 0            0\n",
      "PageID                0\n",
      "Name                  0\n",
      "Universe              6\n",
      "URL                   0\n",
      "Identity          19875\n",
      "Gender             3226\n",
      "Alive                 1\n",
      "Marital Status    54514\n",
      "Teams             42807\n",
      "Height (m)        87298\n",
      "Weight (kg)       87742\n",
      "Origin            14474\n",
      "Creators           2050\n",
      "dtype: int64\n"
     ]
    }
   ],
   "execution_count": 9
  },
  {
   "metadata": {
    "ExecuteTime": {
     "end_time": "2025-06-23T09:49:59.123176Z",
     "start_time": "2025-06-23T09:49:59.096439Z"
    }
   },
   "cell_type": "code",
   "source": "print(df.describe())",
   "id": "5f5d2cc669e01181",
   "outputs": [
    {
     "name": "stdout",
     "output_type": "stream",
     "text": [
      "         Unnamed: 0   Height (m)  Weight (kg)\n",
      "count  92615.000000  5317.000000  4873.000000\n",
      "mean   46307.000000     3.548533   105.851053\n",
      "std    26735.791928    28.102151    92.606689\n",
      "min        0.000000     1.020000     0.000000\n",
      "25%    23153.500000     1.730000    63.500000\n",
      "50%    46307.000000     1.800000    81.650000\n",
      "75%    69460.500000     1.880000   104.330000\n",
      "max    92614.000000   804.670000   962.980000\n"
     ]
    }
   ],
   "execution_count": 10
  },
  {
   "metadata": {},
   "cell_type": "code",
   "outputs": [],
   "execution_count": null,
   "source": "",
   "id": "72c9a3c39f5e914c"
  }
 ],
 "metadata": {
  "kernelspec": {
   "display_name": "Python 3",
   "language": "python",
   "name": "python3"
  },
  "language_info": {
   "codemirror_mode": {
    "name": "ipython",
    "version": 2
   },
   "file_extension": ".py",
   "mimetype": "text/x-python",
   "name": "python",
   "nbconvert_exporter": "python",
   "pygments_lexer": "ipython2",
   "version": "2.7.6"
  }
 },
 "nbformat": 4,
 "nbformat_minor": 5
}
